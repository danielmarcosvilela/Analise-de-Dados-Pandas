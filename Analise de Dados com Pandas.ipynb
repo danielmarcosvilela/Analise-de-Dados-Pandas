{
 "cells": [
  {
   "cell_type": "code",
   "execution_count": 1,
   "id": "7b282ae4",
   "metadata": {},
   "outputs": [],
   "source": [
    "import pandas as pd"
   ]
  },
  {
   "cell_type": "code",
   "execution_count": 2,
   "id": "193d9583",
   "metadata": {},
   "outputs": [],
   "source": [
    "# Lendo arquivo\n",
    "df = pd.read_excel(\"DadosVendaCarros.xlsx\")"
   ]
  },
  {
   "cell_type": "code",
   "execution_count": 3,
   "id": "9f2bfc45",
   "metadata": {},
   "outputs": [
    {
     "data": {
      "text/html": [
       "<div>\n",
       "<style scoped>\n",
       "    .dataframe tbody tr th:only-of-type {\n",
       "        vertical-align: middle;\n",
       "    }\n",
       "\n",
       "    .dataframe tbody tr th {\n",
       "        vertical-align: top;\n",
       "    }\n",
       "\n",
       "    .dataframe thead th {\n",
       "        text-align: right;\n",
       "    }\n",
       "</style>\n",
       "<table border=\"1\" class=\"dataframe\">\n",
       "  <thead>\n",
       "    <tr style=\"text-align: right;\">\n",
       "      <th></th>\n",
       "      <th>DataNotaFiscal</th>\n",
       "      <th>Fabricante</th>\n",
       "      <th>Estado</th>\n",
       "      <th>ValorVenda</th>\n",
       "      <th>ValorCusto</th>\n",
       "      <th>TotalDesconto</th>\n",
       "      <th>CustoEntrega</th>\n",
       "      <th>CustoMaoDeObra</th>\n",
       "      <th>NomeCliente</th>\n",
       "      <th>Modelo</th>\n",
       "      <th>Cor</th>\n",
       "      <th>Ano</th>\n",
       "    </tr>\n",
       "  </thead>\n",
       "  <tbody>\n",
       "    <tr>\n",
       "      <th>0</th>\n",
       "      <td>04-10-2016</td>\n",
       "      <td>Rolls Royce</td>\n",
       "      <td>São Paulo</td>\n",
       "      <td>95000</td>\n",
       "      <td>50000</td>\n",
       "      <td>500.0</td>\n",
       "      <td>750</td>\n",
       "      <td>750</td>\n",
       "      <td>Aldo Motors</td>\n",
       "      <td>Camargue</td>\n",
       "      <td>Vermelho</td>\n",
       "      <td>2016</td>\n",
       "    </tr>\n",
       "    <tr>\n",
       "      <th>1</th>\n",
       "      <td>01-01-2016</td>\n",
       "      <td>Aston Martin</td>\n",
       "      <td>São Paulo</td>\n",
       "      <td>120000</td>\n",
       "      <td>75000</td>\n",
       "      <td>0.0</td>\n",
       "      <td>1500</td>\n",
       "      <td>550</td>\n",
       "      <td>Honest John</td>\n",
       "      <td>DBS</td>\n",
       "      <td>Azul</td>\n",
       "      <td>2016</td>\n",
       "    </tr>\n",
       "    <tr>\n",
       "      <th>2</th>\n",
       "      <td>02-02-2016</td>\n",
       "      <td>Rolls Royce</td>\n",
       "      <td>São Paulo</td>\n",
       "      <td>88000</td>\n",
       "      <td>75000</td>\n",
       "      <td>750.0</td>\n",
       "      <td>1000</td>\n",
       "      <td>550</td>\n",
       "      <td>Bright Orange</td>\n",
       "      <td>Prata Ghost</td>\n",
       "      <td>Verde</td>\n",
       "      <td>2016</td>\n",
       "    </tr>\n",
       "    <tr>\n",
       "      <th>3</th>\n",
       "      <td>03-03-2016</td>\n",
       "      <td>Rolls Royce</td>\n",
       "      <td>São Paulo</td>\n",
       "      <td>89000</td>\n",
       "      <td>88000</td>\n",
       "      <td>0.0</td>\n",
       "      <td>1000</td>\n",
       "      <td>550</td>\n",
       "      <td>Honest John</td>\n",
       "      <td>Prata Ghost</td>\n",
       "      <td>Azul</td>\n",
       "      <td>2016</td>\n",
       "    </tr>\n",
       "    <tr>\n",
       "      <th>4</th>\n",
       "      <td>04-04-2016</td>\n",
       "      <td>Rolls Royce</td>\n",
       "      <td>São Paulo</td>\n",
       "      <td>92000</td>\n",
       "      <td>62000</td>\n",
       "      <td>0.0</td>\n",
       "      <td>1500</td>\n",
       "      <td>550</td>\n",
       "      <td>Wheels'R'Us</td>\n",
       "      <td>Camargue</td>\n",
       "      <td>Prata</td>\n",
       "      <td>2016</td>\n",
       "    </tr>\n",
       "  </tbody>\n",
       "</table>\n",
       "</div>"
      ],
      "text/plain": [
       "  DataNotaFiscal    Fabricante     Estado  ValorVenda  ValorCusto  \\\n",
       "0     04-10-2016   Rolls Royce  São Paulo       95000       50000   \n",
       "1     01-01-2016  Aston Martin  São Paulo      120000       75000   \n",
       "2     02-02-2016   Rolls Royce  São Paulo       88000       75000   \n",
       "3     03-03-2016   Rolls Royce  São Paulo       89000       88000   \n",
       "4     04-04-2016   Rolls Royce  São Paulo       92000       62000   \n",
       "\n",
       "   TotalDesconto  CustoEntrega  CustoMaoDeObra    NomeCliente       Modelo  \\\n",
       "0          500.0           750             750    Aldo Motors     Camargue   \n",
       "1            0.0          1500             550    Honest John          DBS   \n",
       "2          750.0          1000             550  Bright Orange  Prata Ghost   \n",
       "3            0.0          1000             550    Honest John  Prata Ghost   \n",
       "4            0.0          1500             550    Wheels'R'Us     Camargue   \n",
       "\n",
       "        Cor   Ano  \n",
       "0  Vermelho  2016  \n",
       "1      Azul  2016  \n",
       "2     Verde  2016  \n",
       "3      Azul  2016  \n",
       "4     Prata  2016  "
      ]
     },
     "execution_count": 3,
     "metadata": {},
     "output_type": "execute_result"
    }
   ],
   "source": [
    "#Exibindo as 5 primeiras linhas\n",
    "df.head(5)"
   ]
  },
  {
   "cell_type": "code",
   "execution_count": 4,
   "id": "23ccef37",
   "metadata": {},
   "outputs": [
    {
     "data": {
      "text/html": [
       "<div>\n",
       "<style scoped>\n",
       "    .dataframe tbody tr th:only-of-type {\n",
       "        vertical-align: middle;\n",
       "    }\n",
       "\n",
       "    .dataframe tbody tr th {\n",
       "        vertical-align: top;\n",
       "    }\n",
       "\n",
       "    .dataframe thead th {\n",
       "        text-align: right;\n",
       "    }\n",
       "</style>\n",
       "<table border=\"1\" class=\"dataframe\">\n",
       "  <thead>\n",
       "    <tr style=\"text-align: right;\">\n",
       "      <th></th>\n",
       "      <th>DataNotaFiscal</th>\n",
       "      <th>Fabricante</th>\n",
       "      <th>Estado</th>\n",
       "      <th>ValorVenda</th>\n",
       "      <th>ValorCusto</th>\n",
       "      <th>TotalDesconto</th>\n",
       "      <th>CustoEntrega</th>\n",
       "      <th>CustoMaoDeObra</th>\n",
       "      <th>NomeCliente</th>\n",
       "      <th>Modelo</th>\n",
       "      <th>Cor</th>\n",
       "      <th>Ano</th>\n",
       "    </tr>\n",
       "  </thead>\n",
       "  <tbody>\n",
       "    <tr>\n",
       "      <th>452</th>\n",
       "      <td>23-09-2019</td>\n",
       "      <td>Aston Martin</td>\n",
       "      <td>Rio de Janeiro</td>\n",
       "      <td>39750</td>\n",
       "      <td>27500</td>\n",
       "      <td>1300.0</td>\n",
       "      <td>-75</td>\n",
       "      <td>1250</td>\n",
       "      <td>Buckingham Palace Car Services</td>\n",
       "      <td>DB9</td>\n",
       "      <td>Preto</td>\n",
       "      <td>2019</td>\n",
       "    </tr>\n",
       "    <tr>\n",
       "      <th>453</th>\n",
       "      <td>24-10-2019</td>\n",
       "      <td>Aston Martin</td>\n",
       "      <td>Rio de Janeiro</td>\n",
       "      <td>40440</td>\n",
       "      <td>22500</td>\n",
       "      <td>550.0</td>\n",
       "      <td>175</td>\n",
       "      <td>1250</td>\n",
       "      <td>British Luxury Automobile Corp</td>\n",
       "      <td>DB9</td>\n",
       "      <td>Vermelho</td>\n",
       "      <td>2019</td>\n",
       "    </tr>\n",
       "    <tr>\n",
       "      <th>454</th>\n",
       "      <td>25-11-2019</td>\n",
       "      <td>Rolls Royce</td>\n",
       "      <td>Rio de Janeiro</td>\n",
       "      <td>72000</td>\n",
       "      <td>22500</td>\n",
       "      <td>1050.0</td>\n",
       "      <td>-75</td>\n",
       "      <td>950</td>\n",
       "      <td>Classy Car Sales</td>\n",
       "      <td>Camargue</td>\n",
       "      <td>Azul</td>\n",
       "      <td>2019</td>\n",
       "    </tr>\n",
       "    <tr>\n",
       "      <th>455</th>\n",
       "      <td>26-11-2019</td>\n",
       "      <td>Aston Martin</td>\n",
       "      <td>Rio de Janeiro</td>\n",
       "      <td>40440</td>\n",
       "      <td>36125</td>\n",
       "      <td>800.0</td>\n",
       "      <td>875</td>\n",
       "      <td>1250</td>\n",
       "      <td>Ambassador Cars</td>\n",
       "      <td>DB9</td>\n",
       "      <td>Verde</td>\n",
       "      <td>2019</td>\n",
       "    </tr>\n",
       "    <tr>\n",
       "      <th>456</th>\n",
       "      <td>27-11-2019</td>\n",
       "      <td>Aston Martin</td>\n",
       "      <td>Rio de Janeiro</td>\n",
       "      <td>77250</td>\n",
       "      <td>22500</td>\n",
       "      <td>550.0</td>\n",
       "      <td>875</td>\n",
       "      <td>1250</td>\n",
       "      <td>Embassy Motors</td>\n",
       "      <td>DB9</td>\n",
       "      <td>Prata</td>\n",
       "      <td>2019</td>\n",
       "    </tr>\n",
       "  </tbody>\n",
       "</table>\n",
       "</div>"
      ],
      "text/plain": [
       "    DataNotaFiscal    Fabricante          Estado  ValorVenda  ValorCusto  \\\n",
       "452     23-09-2019  Aston Martin  Rio de Janeiro       39750       27500   \n",
       "453     24-10-2019  Aston Martin  Rio de Janeiro       40440       22500   \n",
       "454     25-11-2019   Rolls Royce  Rio de Janeiro       72000       22500   \n",
       "455     26-11-2019  Aston Martin  Rio de Janeiro       40440       36125   \n",
       "456     27-11-2019  Aston Martin  Rio de Janeiro       77250       22500   \n",
       "\n",
       "     TotalDesconto  CustoEntrega  CustoMaoDeObra  \\\n",
       "452         1300.0           -75            1250   \n",
       "453          550.0           175            1250   \n",
       "454         1050.0           -75             950   \n",
       "455          800.0           875            1250   \n",
       "456          550.0           875            1250   \n",
       "\n",
       "                        NomeCliente    Modelo       Cor   Ano  \n",
       "452  Buckingham Palace Car Services       DB9     Preto  2019  \n",
       "453  British Luxury Automobile Corp       DB9  Vermelho  2019  \n",
       "454                Classy Car Sales  Camargue      Azul  2019  \n",
       "455                 Ambassador Cars       DB9     Verde  2019  \n",
       "456                  Embassy Motors       DB9     Prata  2019  "
      ]
     },
     "execution_count": 4,
     "metadata": {},
     "output_type": "execute_result"
    }
   ],
   "source": [
    "#Exibe as 5 ultimas linhas\n",
    "df.tail(5)"
   ]
  },
  {
   "cell_type": "code",
   "execution_count": 5,
   "id": "e2d5a1e0",
   "metadata": {},
   "outputs": [
    {
     "data": {
      "text/plain": [
       "DataNotaFiscal     object\n",
       "Fabricante         object\n",
       "Estado             object\n",
       "ValorVenda          int64\n",
       "ValorCusto          int64\n",
       "TotalDesconto     float64\n",
       "CustoEntrega        int64\n",
       "CustoMaoDeObra      int64\n",
       "NomeCliente        object\n",
       "Modelo             object\n",
       "Cor                object\n",
       "Ano                 int64\n",
       "dtype: object"
      ]
     },
     "execution_count": 5,
     "metadata": {},
     "output_type": "execute_result"
    }
   ],
   "source": [
    "#Verificando o tipo de dado de cada coluna\n",
    "df.dtypes"
   ]
  },
  {
   "cell_type": "code",
   "execution_count": 6,
   "id": "100e9569",
   "metadata": {},
   "outputs": [
    {
     "data": {
      "text/plain": [
       "DataNotaFiscal    0\n",
       "Fabricante        0\n",
       "Estado            0\n",
       "ValorVenda        0\n",
       "ValorCusto        0\n",
       "TotalDesconto     0\n",
       "CustoEntrega      0\n",
       "CustoMaoDeObra    0\n",
       "NomeCliente       0\n",
       "Modelo            0\n",
       "Cor               0\n",
       "Ano               0\n",
       "dtype: int64"
      ]
     },
     "execution_count": 6,
     "metadata": {},
     "output_type": "execute_result"
    }
   ],
   "source": [
    "#Colsultando linhas com valores faltantes\n",
    "df.isnull().sum()"
   ]
  },
  {
   "cell_type": "code",
   "execution_count": 7,
   "id": "43cb2a5a",
   "metadata": {},
   "outputs": [
    {
     "data": {
      "text/plain": [
       "Estado\n",
       "Bahia               145750\n",
       "Espírito Santo     1440970\n",
       "Minas Gerais       2524510\n",
       "Paraná              207750\n",
       "Rio de Janeiro    11653960\n",
       "São Paulo         15725000\n",
       "Name: ValorVenda, dtype: int64"
      ]
     },
     "execution_count": 7,
     "metadata": {},
     "output_type": "execute_result"
    }
   ],
   "source": [
    "#Agrupamento por Estado\n",
    "df.groupby(\"Estado\")[\"ValorVenda\"].sum()"
   ]
  },
  {
   "cell_type": "code",
   "execution_count": 8,
   "id": "40e4be3d",
   "metadata": {},
   "outputs": [
    {
     "data": {
      "text/html": [
       "<div>\n",
       "<style scoped>\n",
       "    .dataframe tbody tr th:only-of-type {\n",
       "        vertical-align: middle;\n",
       "    }\n",
       "\n",
       "    .dataframe tbody tr th {\n",
       "        vertical-align: top;\n",
       "    }\n",
       "\n",
       "    .dataframe thead th {\n",
       "        text-align: right;\n",
       "    }\n",
       "</style>\n",
       "<table border=\"1\" class=\"dataframe\">\n",
       "  <thead>\n",
       "    <tr style=\"text-align: right;\">\n",
       "      <th></th>\n",
       "      <th>DataNotaFiscal</th>\n",
       "      <th>Fabricante</th>\n",
       "      <th>Estado</th>\n",
       "      <th>ValorVenda</th>\n",
       "      <th>ValorCusto</th>\n",
       "      <th>TotalDesconto</th>\n",
       "      <th>CustoEntrega</th>\n",
       "      <th>CustoMaoDeObra</th>\n",
       "      <th>NomeCliente</th>\n",
       "      <th>Modelo</th>\n",
       "      <th>Cor</th>\n",
       "      <th>Ano</th>\n",
       "    </tr>\n",
       "  </thead>\n",
       "  <tbody>\n",
       "    <tr>\n",
       "      <th>332</th>\n",
       "      <td>02-11-2019</td>\n",
       "      <td>Rolls Royce</td>\n",
       "      <td>Rio de Janeiro</td>\n",
       "      <td>181250</td>\n",
       "      <td>80890</td>\n",
       "      <td>800.0</td>\n",
       "      <td>1650</td>\n",
       "      <td>987</td>\n",
       "      <td>BritWheels</td>\n",
       "      <td>Camargue</td>\n",
       "      <td>Preto</td>\n",
       "      <td>2019</td>\n",
       "    </tr>\n",
       "    <tr>\n",
       "      <th>168</th>\n",
       "      <td>02-01-2019</td>\n",
       "      <td>Aston Martin</td>\n",
       "      <td>Minas Gerais</td>\n",
       "      <td>181250</td>\n",
       "      <td>130000</td>\n",
       "      <td>50.0</td>\n",
       "      <td>1725</td>\n",
       "      <td>570</td>\n",
       "      <td>Les Arnaqueurs</td>\n",
       "      <td>Zagato</td>\n",
       "      <td>Verde</td>\n",
       "      <td>2019</td>\n",
       "    </tr>\n",
       "    <tr>\n",
       "      <th>337</th>\n",
       "      <td>02-04-2019</td>\n",
       "      <td>Aston Martin</td>\n",
       "      <td>Rio de Janeiro</td>\n",
       "      <td>181250</td>\n",
       "      <td>80890</td>\n",
       "      <td>50.0</td>\n",
       "      <td>50</td>\n",
       "      <td>852</td>\n",
       "      <td>Style ‘N Ride</td>\n",
       "      <td>DB9</td>\n",
       "      <td>Preto</td>\n",
       "      <td>2019</td>\n",
       "    </tr>\n",
       "    <tr>\n",
       "      <th>335</th>\n",
       "      <td>02-02-2019</td>\n",
       "      <td>Aston Martin</td>\n",
       "      <td>Rio de Janeiro</td>\n",
       "      <td>181250</td>\n",
       "      <td>80890</td>\n",
       "      <td>50.0</td>\n",
       "      <td>400</td>\n",
       "      <td>987</td>\n",
       "      <td>BritWheels</td>\n",
       "      <td>DB9</td>\n",
       "      <td>Púrpura</td>\n",
       "      <td>2019</td>\n",
       "    </tr>\n",
       "    <tr>\n",
       "      <th>334</th>\n",
       "      <td>02-01-2019</td>\n",
       "      <td>Rolls Royce</td>\n",
       "      <td>Rio de Janeiro</td>\n",
       "      <td>181250</td>\n",
       "      <td>67000</td>\n",
       "      <td>50.0</td>\n",
       "      <td>400</td>\n",
       "      <td>654</td>\n",
       "      <td>Sporty Types Corp</td>\n",
       "      <td>Camargue</td>\n",
       "      <td>Verde</td>\n",
       "      <td>2019</td>\n",
       "    </tr>\n",
       "    <tr>\n",
       "      <th>331</th>\n",
       "      <td>02-10-2019</td>\n",
       "      <td>Rolls Royce</td>\n",
       "      <td>Rio de Janeiro</td>\n",
       "      <td>181250</td>\n",
       "      <td>80890</td>\n",
       "      <td>50.0</td>\n",
       "      <td>1650</td>\n",
       "      <td>654</td>\n",
       "      <td>Sporty Types Corp</td>\n",
       "      <td>Camargue</td>\n",
       "      <td>Púrpura</td>\n",
       "      <td>2019</td>\n",
       "    </tr>\n",
       "    <tr>\n",
       "      <th>327</th>\n",
       "      <td>02-06-2019</td>\n",
       "      <td>Rolls Royce</td>\n",
       "      <td>Rio de Janeiro</td>\n",
       "      <td>181250</td>\n",
       "      <td>80890</td>\n",
       "      <td>50.0</td>\n",
       "      <td>1650</td>\n",
       "      <td>321</td>\n",
       "      <td>Ambassador Cars</td>\n",
       "      <td>Camargue</td>\n",
       "      <td>Vermelho</td>\n",
       "      <td>2019</td>\n",
       "    </tr>\n",
       "    <tr>\n",
       "      <th>324</th>\n",
       "      <td>02-03-2019</td>\n",
       "      <td>Rolls Royce</td>\n",
       "      <td>Rio de Janeiro</td>\n",
       "      <td>181250</td>\n",
       "      <td>67000</td>\n",
       "      <td>50.0</td>\n",
       "      <td>890</td>\n",
       "      <td>654</td>\n",
       "      <td>BritWheels</td>\n",
       "      <td>Camargue</td>\n",
       "      <td>Prata</td>\n",
       "      <td>2019</td>\n",
       "    </tr>\n",
       "    <tr>\n",
       "      <th>322</th>\n",
       "      <td>02-01-2019</td>\n",
       "      <td>Aston Martin</td>\n",
       "      <td>Rio de Janeiro</td>\n",
       "      <td>181250</td>\n",
       "      <td>130000</td>\n",
       "      <td>50.0</td>\n",
       "      <td>1650</td>\n",
       "      <td>570</td>\n",
       "      <td>Tweedy Wheels</td>\n",
       "      <td>DB9</td>\n",
       "      <td>Verde</td>\n",
       "      <td>2019</td>\n",
       "    </tr>\n",
       "    <tr>\n",
       "      <th>170</th>\n",
       "      <td>02-03-2019</td>\n",
       "      <td>Rolls Royce</td>\n",
       "      <td>São Paulo</td>\n",
       "      <td>181250</td>\n",
       "      <td>67000</td>\n",
       "      <td>50.0</td>\n",
       "      <td>965</td>\n",
       "      <td>654</td>\n",
       "      <td>Cut'n'Shut</td>\n",
       "      <td>Wraith</td>\n",
       "      <td>Prata</td>\n",
       "      <td>2019</td>\n",
       "    </tr>\n",
       "  </tbody>\n",
       "</table>\n",
       "</div>"
      ],
      "text/plain": [
       "    DataNotaFiscal    Fabricante          Estado  ValorVenda  ValorCusto  \\\n",
       "332     02-11-2019   Rolls Royce  Rio de Janeiro      181250       80890   \n",
       "168     02-01-2019  Aston Martin    Minas Gerais      181250      130000   \n",
       "337     02-04-2019  Aston Martin  Rio de Janeiro      181250       80890   \n",
       "335     02-02-2019  Aston Martin  Rio de Janeiro      181250       80890   \n",
       "334     02-01-2019   Rolls Royce  Rio de Janeiro      181250       67000   \n",
       "331     02-10-2019   Rolls Royce  Rio de Janeiro      181250       80890   \n",
       "327     02-06-2019   Rolls Royce  Rio de Janeiro      181250       80890   \n",
       "324     02-03-2019   Rolls Royce  Rio de Janeiro      181250       67000   \n",
       "322     02-01-2019  Aston Martin  Rio de Janeiro      181250      130000   \n",
       "170     02-03-2019   Rolls Royce       São Paulo      181250       67000   \n",
       "\n",
       "     TotalDesconto  CustoEntrega  CustoMaoDeObra        NomeCliente    Modelo  \\\n",
       "332          800.0          1650             987         BritWheels  Camargue   \n",
       "168           50.0          1725             570     Les Arnaqueurs    Zagato   \n",
       "337           50.0            50             852      Style ‘N Ride       DB9   \n",
       "335           50.0           400             987         BritWheels       DB9   \n",
       "334           50.0           400             654  Sporty Types Corp  Camargue   \n",
       "331           50.0          1650             654  Sporty Types Corp  Camargue   \n",
       "327           50.0          1650             321    Ambassador Cars  Camargue   \n",
       "324           50.0           890             654         BritWheels  Camargue   \n",
       "322           50.0          1650             570      Tweedy Wheels       DB9   \n",
       "170           50.0           965             654         Cut'n'Shut    Wraith   \n",
       "\n",
       "          Cor   Ano  \n",
       "332     Preto  2019  \n",
       "168     Verde  2019  \n",
       "337     Preto  2019  \n",
       "335   Púrpura  2019  \n",
       "334     Verde  2019  \n",
       "331   Púrpura  2019  \n",
       "327  Vermelho  2019  \n",
       "324     Prata  2019  \n",
       "322     Verde  2019  \n",
       "170     Prata  2019  "
      ]
     },
     "execution_count": 8,
     "metadata": {},
     "output_type": "execute_result"
    }
   ],
   "source": [
    "#Ordenando o conjunto de dados\n",
    "df.sort_values(\"ValorVenda\", ascending=False).head(10)"
   ]
  },
  {
   "cell_type": "code",
   "execution_count": 9,
   "id": "32bc7a20",
   "metadata": {},
   "outputs": [],
   "source": [
    "#Transformando coluna de data em data\n",
    "df[\"DataNotaFiscal\"] = pd.to_datetime(df[\"DataNotaFiscal\"])"
   ]
  },
  {
   "cell_type": "code",
   "execution_count": 10,
   "id": "c26008f5",
   "metadata": {},
   "outputs": [
    {
     "data": {
      "text/plain": [
       "DataNotaFiscal    datetime64[ns]\n",
       "Fabricante                object\n",
       "Estado                    object\n",
       "ValorVenda                 int64\n",
       "ValorCusto                 int64\n",
       "TotalDesconto            float64\n",
       "CustoEntrega               int64\n",
       "CustoMaoDeObra             int64\n",
       "NomeCliente               object\n",
       "Modelo                    object\n",
       "Cor                       object\n",
       "Ano                        int64\n",
       "dtype: object"
      ]
     },
     "execution_count": 10,
     "metadata": {},
     "output_type": "execute_result"
    }
   ],
   "source": [
    "df.dtypes"
   ]
  },
  {
   "cell_type": "code",
   "execution_count": 11,
   "id": "7ffbd3cc",
   "metadata": {},
   "outputs": [
    {
     "data": {
      "text/plain": [
       "2019    226\n",
       "2017    115\n",
       "2018     77\n",
       "2016     39\n",
       "Name: Ano, dtype: int64"
      ]
     },
     "execution_count": 11,
     "metadata": {},
     "output_type": "execute_result"
    }
   ],
   "source": [
    "# Total de Vendas por Ano\n",
    "df[\"Ano\"].value_counts()"
   ]
  },
  {
   "cell_type": "code",
   "execution_count": 12,
   "id": "4f2638ac",
   "metadata": {},
   "outputs": [
    {
     "data": {
      "image/png": "[encoded data removed]",
      "text/plain": [
       "<Figure size 432x288 with 1 Axes>"
      ]
     },
     "metadata": {
      "needs_background": "light"
     },
     "output_type": "display_data"
    }
   ],
   "source": [
    "#Adicionando um título e alterando o nome dos eixos\n",
    "import matplotlib.pyplot as plt\n",
    "df[\"Ano\"].value_counts().plot.bar(title=\"Total vendas por Ano\")\n",
    "plt.xlabel(\"Ano\")\n",
    "plt.ylabel(\"ValorVenda\");"
   ]
  },
  {
   "cell_type": "code",
   "execution_count": 13,
   "id": "72e491fd",
   "metadata": {},
   "outputs": [
    {
     "data": {
      "text/plain": [
       "42250     56\n",
       "112750    38\n",
       "44000     36\n",
       "46750     33\n",
       "25250     32\n",
       "39500     28\n",
       "28000     20\n",
       "181250    20\n",
       "110000    19\n",
       "132750    14\n",
       "22500     12\n",
       "41250     10\n",
       "32500     10\n",
       "178500    10\n",
       "77250      8\n",
       "48550      8\n",
       "130000     7\n",
       "40440      7\n",
       "39750      6\n",
       "105250     6\n",
       "97750      6\n",
       "29750      5\n",
       "45800      4\n",
       "25500      4\n",
       "74500      4\n",
       "72000      4\n",
       "122750     4\n",
       "37690      4\n",
       "37000      3\n",
       "102500     3\n",
       "95000      3\n",
       "47750      2\n",
       "69250      2\n",
       "90750      2\n",
       "77750      2\n",
       "120000     2\n",
       "22750      2\n",
       "71250      2\n",
       "91750      2\n",
       "127250     2\n",
       "94750      2\n",
       "127750     2\n",
       "157750     2\n",
       "155000     1\n",
       "68500      1\n",
       "89000      1\n",
       "88000      1\n",
       "45000      1\n",
       "75000      1\n",
       "125000     1\n",
       "124500     1\n",
       "92000      1\n",
       "Name: ValorVenda, dtype: int64"
      ]
     },
     "execution_count": 13,
     "metadata": {},
     "output_type": "execute_result"
    }
   ],
   "source": [
    "# Valor Venda\n",
    "df[\"ValorVenda\"].value_counts()"
   ]
  },
  {
   "cell_type": "code",
   "execution_count": 14,
   "id": "34241b4e",
   "metadata": {},
   "outputs": [
    {
     "data": {
      "text/plain": [
       "31697940"
      ]
     },
     "execution_count": 14,
     "metadata": {},
     "output_type": "execute_result"
    }
   ],
   "source": [
    "df[\"ValorVenda\"].sum()"
   ]
  },
  {
   "cell_type": "code",
   "execution_count": 15,
   "id": "72804c97",
   "metadata": {},
   "outputs": [],
   "source": [
    "import numpy as np"
   ]
  },
  {
   "cell_type": "code",
   "execution_count": 16,
   "id": "cf38b179",
   "metadata": {},
   "outputs": [],
   "source": [
    "import matplotlib.pyplot as plt"
   ]
  },
  {
   "cell_type": "code",
   "execution_count": 17,
   "id": "a6bd5966",
   "metadata": {},
   "outputs": [],
   "source": [
    "plt.style.use(\"ggplot\")"
   ]
  },
  {
   "cell_type": "code",
   "execution_count": 18,
   "id": "204d0571",
   "metadata": {},
   "outputs": [
    {
     "data": {
      "text/plain": [
       "<AxesSubplot:title={'center':'Custo de Entrega por Fabricante'}, ylabel='Fabricante'>"
      ]
     },
     "execution_count": 18,
     "metadata": {},
     "output_type": "execute_result"
    },
    {
     "data": {
      "image/png": "[encoded data removed]",
      "text/plain": [
       "<Figure size 432x288 with 1 Axes>"
      ]
     },
     "metadata": {},
     "output_type": "display_data"
    }
   ],
   "source": [
    "df[\"Fabricante\"].value_counts().plot.pie(title=\"Custo de Entrega por Fabricante\")\n"
   ]
  },
  {
   "cell_type": "code",
   "execution_count": 19,
   "id": "c424b1d8",
   "metadata": {},
   "outputs": [
    {
     "data": {
      "image/png": "[encoded data removed]",
      "text/plain": [
       "<Figure size 432x288 with 1 Axes>"
      ]
     },
     "metadata": {},
     "output_type": "display_data"
    }
   ],
   "source": [
    "df[\"Estado\"].value_counts().plot.barh(title=\"Custo de Mão de Obra por Estado\")\n",
    "plt.xlabel(\"Mão de Obra\")\n",
    "plt.ylabel(\"Estado\");"
   ]
  },
  {
   "cell_type": "code",
   "execution_count": 20,
   "id": "73789125",
   "metadata": {},
   "outputs": [],
   "source": [
    "#Importando as bibliotecas\n",
    "import pandas as pd\n",
    "import matplotlib.pyplot as plt\n",
    "plt.style.use(\"seaborn\")"
   ]
  },
  {
   "cell_type": "code",
   "execution_count": 23,
   "id": "8e12cb33",
   "metadata": {},
   "outputs": [
    {
     "data": {
      "text/plain": [
       "(457, 12)"
      ]
     },
     "execution_count": 23,
     "metadata": {},
     "output_type": "execute_result"
    }
   ],
   "source": [
    "#Quantidade de linhas e colunas\n",
    "df.shape"
   ]
  },
  {
   "cell_type": "code",
   "execution_count": 24,
   "id": "74900f75",
   "metadata": {},
   "outputs": [
    {
     "data": {
      "text/plain": [
       "DataNotaFiscal    datetime64[ns]\n",
       "Fabricante                object\n",
       "Estado                    object\n",
       "ValorVenda                 int64\n",
       "ValorCusto                 int64\n",
       "TotalDesconto            float64\n",
       "CustoEntrega               int64\n",
       "CustoMaoDeObra             int64\n",
       "NomeCliente               object\n",
       "Modelo                    object\n",
       "Cor                       object\n",
       "Ano                        int64\n",
       "dtype: object"
      ]
     },
     "execution_count": 24,
     "metadata": {},
     "output_type": "execute_result"
    }
   ],
   "source": [
    "#Verificando os tipos de dados\n",
    "df.dtypes"
   ]
  },
  {
   "cell_type": "code",
   "execution_count": 25,
   "id": "ae36e81b",
   "metadata": {},
   "outputs": [
    {
     "data": {
      "text/plain": [
       "31697940"
      ]
     },
     "execution_count": 25,
     "metadata": {},
     "output_type": "execute_result"
    }
   ],
   "source": [
    "#Qual a Receita total?\n",
    "df[\"ValorVenda\"].sum()"
   ]
  },
  {
   "cell_type": "code",
   "execution_count": 26,
   "id": "91fe79bf",
   "metadata": {},
   "outputs": [
    {
     "data": {
      "text/plain": [
       "DataNotaFiscal  Modelo     \n",
       "2016            Arnage           44000\n",
       "                Azure           154000\n",
       "                Camargue        289500\n",
       "                Continental     567500\n",
       "                DB4              68500\n",
       "                                ...   \n",
       "2019            Vantage         239600\n",
       "                Wraith          181250\n",
       "                XJ6             501000\n",
       "                XK             2438500\n",
       "                Zagato          181250\n",
       "Name: ValorVenda, Length: 80, dtype: int64"
      ]
     },
     "execution_count": 26,
     "metadata": {},
     "output_type": "execute_result"
    }
   ],
   "source": [
    "#Vamos Agrupar por ano e modelo\n",
    "df.groupby([df[\"DataNotaFiscal\"].dt.year, \"Modelo\"])[\"ValorVenda\"].sum()"
   ]
  },
  {
   "cell_type": "code",
   "execution_count": 27,
   "id": "4ea3aa16",
   "metadata": {},
   "outputs": [],
   "source": [
    "pd.options.display.float_format = '{:20,.2f}'.format"
   ]
  },
  {
   "cell_type": "code",
   "execution_count": 28,
   "id": "e412add4",
   "metadata": {},
   "outputs": [
    {
     "data": {
      "text/html": [
       "<div>\n",
       "<style scoped>\n",
       "    .dataframe tbody tr th:only-of-type {\n",
       "        vertical-align: middle;\n",
       "    }\n",
       "\n",
       "    .dataframe tbody tr th {\n",
       "        vertical-align: top;\n",
       "    }\n",
       "\n",
       "    .dataframe thead th {\n",
       "        text-align: right;\n",
       "    }\n",
       "</style>\n",
       "<table border=\"1\" class=\"dataframe\">\n",
       "  <thead>\n",
       "    <tr style=\"text-align: right;\">\n",
       "      <th></th>\n",
       "      <th>DataNotaFiscal</th>\n",
       "      <th>Modelo</th>\n",
       "      <th>ValorVenda</th>\n",
       "    </tr>\n",
       "  </thead>\n",
       "  <tbody>\n",
       "    <tr>\n",
       "      <th>0</th>\n",
       "      <td>2016</td>\n",
       "      <td>Arnage</td>\n",
       "      <td>44000</td>\n",
       "    </tr>\n",
       "    <tr>\n",
       "      <th>1</th>\n",
       "      <td>2016</td>\n",
       "      <td>Azure</td>\n",
       "      <td>154000</td>\n",
       "    </tr>\n",
       "    <tr>\n",
       "      <th>2</th>\n",
       "      <td>2016</td>\n",
       "      <td>Camargue</td>\n",
       "      <td>289500</td>\n",
       "    </tr>\n",
       "    <tr>\n",
       "      <th>3</th>\n",
       "      <td>2016</td>\n",
       "      <td>Continental</td>\n",
       "      <td>567500</td>\n",
       "    </tr>\n",
       "    <tr>\n",
       "      <th>4</th>\n",
       "      <td>2016</td>\n",
       "      <td>DB4</td>\n",
       "      <td>68500</td>\n",
       "    </tr>\n",
       "    <tr>\n",
       "      <th>...</th>\n",
       "      <td>...</td>\n",
       "      <td>...</td>\n",
       "      <td>...</td>\n",
       "    </tr>\n",
       "    <tr>\n",
       "      <th>75</th>\n",
       "      <td>2019</td>\n",
       "      <td>Vantage</td>\n",
       "      <td>239600</td>\n",
       "    </tr>\n",
       "    <tr>\n",
       "      <th>76</th>\n",
       "      <td>2019</td>\n",
       "      <td>Wraith</td>\n",
       "      <td>181250</td>\n",
       "    </tr>\n",
       "    <tr>\n",
       "      <th>77</th>\n",
       "      <td>2019</td>\n",
       "      <td>XJ6</td>\n",
       "      <td>501000</td>\n",
       "    </tr>\n",
       "    <tr>\n",
       "      <th>78</th>\n",
       "      <td>2019</td>\n",
       "      <td>XK</td>\n",
       "      <td>2438500</td>\n",
       "    </tr>\n",
       "    <tr>\n",
       "      <th>79</th>\n",
       "      <td>2019</td>\n",
       "      <td>Zagato</td>\n",
       "      <td>181250</td>\n",
       "    </tr>\n",
       "  </tbody>\n",
       "</table>\n",
       "<p>80 rows × 3 columns</p>\n",
       "</div>"
      ],
      "text/plain": [
       "    DataNotaFiscal       Modelo  ValorVenda\n",
       "0             2016       Arnage       44000\n",
       "1             2016        Azure      154000\n",
       "2             2016     Camargue      289500\n",
       "3             2016  Continental      567500\n",
       "4             2016          DB4       68500\n",
       "..             ...          ...         ...\n",
       "75            2019      Vantage      239600\n",
       "76            2019       Wraith      181250\n",
       "77            2019          XJ6      501000\n",
       "78            2019           XK     2438500\n",
       "79            2019       Zagato      181250\n",
       "\n",
       "[80 rows x 3 columns]"
      ]
     },
     "execution_count": 28,
     "metadata": {},
     "output_type": "execute_result"
    }
   ],
   "source": [
    "#Resetando o index\n",
    "lucro_ano = df.groupby([df[\"DataNotaFiscal\"].dt.year, \"Modelo\"])[\"ValorVenda\"].sum().reset_index()\n",
    "lucro_ano"
   ]
  },
  {
   "cell_type": "code",
   "execution_count": 32,
   "id": "0b4df15e",
   "metadata": {},
   "outputs": [],
   "source": [
    "#Selecionando apenas as vendas de 2009\n",
    "df_2019 = df[df[\"DataNotaFiscal\"].dt.year == 2019]"
   ]
  },
  {
   "cell_type": "code",
   "execution_count": 34,
   "id": "960fb479",
   "metadata": {},
   "outputs": [
    {
     "data": {
      "text/html": [
       "<div>\n",
       "<style scoped>\n",
       "    .dataframe tbody tr th:only-of-type {\n",
       "        vertical-align: middle;\n",
       "    }\n",
       "\n",
       "    .dataframe tbody tr th {\n",
       "        vertical-align: top;\n",
       "    }\n",
       "\n",
       "    .dataframe thead th {\n",
       "        text-align: right;\n",
       "    }\n",
       "</style>\n",
       "<table border=\"1\" class=\"dataframe\">\n",
       "  <thead>\n",
       "    <tr style=\"text-align: right;\">\n",
       "      <th></th>\n",
       "      <th>DataNotaFiscal</th>\n",
       "      <th>Fabricante</th>\n",
       "      <th>Estado</th>\n",
       "      <th>ValorVenda</th>\n",
       "      <th>ValorCusto</th>\n",
       "      <th>TotalDesconto</th>\n",
       "      <th>CustoEntrega</th>\n",
       "      <th>CustoMaoDeObra</th>\n",
       "      <th>NomeCliente</th>\n",
       "      <th>Modelo</th>\n",
       "      <th>Cor</th>\n",
       "      <th>Ano</th>\n",
       "    </tr>\n",
       "  </thead>\n",
       "  <tbody>\n",
       "    <tr>\n",
       "      <th>168</th>\n",
       "      <td>2019-02-01</td>\n",
       "      <td>Aston Martin</td>\n",
       "      <td>Minas Gerais</td>\n",
       "      <td>181250</td>\n",
       "      <td>130000</td>\n",
       "      <td>50.00</td>\n",
       "      <td>1725</td>\n",
       "      <td>570</td>\n",
       "      <td>Les Arnaqueurs</td>\n",
       "      <td>Zagato</td>\n",
       "      <td>Verde</td>\n",
       "      <td>2019</td>\n",
       "    </tr>\n",
       "    <tr>\n",
       "      <th>169</th>\n",
       "      <td>2019-02-02</td>\n",
       "      <td>Rolls Royce</td>\n",
       "      <td>São Paulo</td>\n",
       "      <td>132750</td>\n",
       "      <td>67000</td>\n",
       "      <td>50.00</td>\n",
       "      <td>1725</td>\n",
       "      <td>570</td>\n",
       "      <td>Wheels'R'Us</td>\n",
       "      <td>Prata Ghost</td>\n",
       "      <td>Prata</td>\n",
       "      <td>2019</td>\n",
       "    </tr>\n",
       "    <tr>\n",
       "      <th>170</th>\n",
       "      <td>2019-02-03</td>\n",
       "      <td>Rolls Royce</td>\n",
       "      <td>São Paulo</td>\n",
       "      <td>181250</td>\n",
       "      <td>67000</td>\n",
       "      <td>50.00</td>\n",
       "      <td>965</td>\n",
       "      <td>654</td>\n",
       "      <td>Cut'n'Shut</td>\n",
       "      <td>Wraith</td>\n",
       "      <td>Prata</td>\n",
       "      <td>2019</td>\n",
       "    </tr>\n",
       "    <tr>\n",
       "      <th>171</th>\n",
       "      <td>2019-02-04</td>\n",
       "      <td>Rolls Royce</td>\n",
       "      <td>São Paulo</td>\n",
       "      <td>112750</td>\n",
       "      <td>80890</td>\n",
       "      <td>50.00</td>\n",
       "      <td>475</td>\n",
       "      <td>987</td>\n",
       "      <td>Bright Orange</td>\n",
       "      <td>Prata Ghost</td>\n",
       "      <td>Verde</td>\n",
       "      <td>2019</td>\n",
       "    </tr>\n",
       "    <tr>\n",
       "      <th>172</th>\n",
       "      <td>2019-02-05</td>\n",
       "      <td>Rolls Royce</td>\n",
       "      <td>São Paulo</td>\n",
       "      <td>132750</td>\n",
       "      <td>67000</td>\n",
       "      <td>1,000.00</td>\n",
       "      <td>1725</td>\n",
       "      <td>654</td>\n",
       "      <td>Honest John</td>\n",
       "      <td>Camargue</td>\n",
       "      <td>Preto</td>\n",
       "      <td>2019</td>\n",
       "    </tr>\n",
       "  </tbody>\n",
       "</table>\n",
       "</div>"
      ],
      "text/plain": [
       "    DataNotaFiscal    Fabricante        Estado  ValorVenda  ValorCusto  \\\n",
       "168     2019-02-01  Aston Martin  Minas Gerais      181250      130000   \n",
       "169     2019-02-02   Rolls Royce     São Paulo      132750       67000   \n",
       "170     2019-02-03   Rolls Royce     São Paulo      181250       67000   \n",
       "171     2019-02-04   Rolls Royce     São Paulo      112750       80890   \n",
       "172     2019-02-05   Rolls Royce     São Paulo      132750       67000   \n",
       "\n",
       "           TotalDesconto  CustoEntrega  CustoMaoDeObra     NomeCliente  \\\n",
       "168                50.00          1725             570  Les Arnaqueurs   \n",
       "169                50.00          1725             570     Wheels'R'Us   \n",
       "170                50.00           965             654      Cut'n'Shut   \n",
       "171                50.00           475             987   Bright Orange   \n",
       "172             1,000.00          1725             654     Honest John   \n",
       "\n",
       "          Modelo    Cor   Ano  \n",
       "168       Zagato  Verde  2019  \n",
       "169  Prata Ghost  Prata  2019  \n",
       "170       Wraith  Prata  2019  \n",
       "171  Prata Ghost  Verde  2019  \n",
       "172     Camargue  Preto  2019  "
      ]
     },
     "execution_count": 34,
     "metadata": {},
     "output_type": "execute_result"
    }
   ],
   "source": [
    "df_2019.head()"
   ]
  },
  {
   "cell_type": "code",
   "execution_count": null,
   "id": "28b89711",
   "metadata": {},
   "outputs": [],
   "source": []
  }
 ],
 "metadata": {
  "kernelspec": {
   "display_name": "Python 3",
   "language": "python",
   "name": "python3"
  },
  "language_info": {
   "codemirror_mode": {
    "name": "ipython",
    "version": 3
   },
   "file_extension": ".py",
   "mimetype": "text/x-python",
   "name": "python",
   "nbconvert_exporter": "python",
   "pygments_lexer": "ipython3",
   "version": "3.8.8"
  }
 },
 "nbformat": 4,
 "nbformat_minor": 5
}
